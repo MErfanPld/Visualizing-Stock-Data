{
 "cells": [
  {
   "cell_type": "code",
   "execution_count": 1,
   "id": "7d0c78e2",
   "metadata": {},
   "outputs": [],
   "source": [
    "import streamlit as st\n",
    "import pandas as pd\n",
    "from PIL import Image"
   ]
  },
  {
   "cell_type": "code",
   "execution_count": 6,
   "id": "6768b906",
   "metadata": {},
   "outputs": [
    {
     "data": {
      "text/plain": [
       "DeltaGenerator(_root_container=1, _provided_cursor=None, _parent=DeltaGenerator(_root_container=0, _provided_cursor=None, _parent=None, _block_type=None, _form_data=None), _block_type=None, _form_data=None)"
      ]
     },
     "execution_count": 6,
     "metadata": {},
     "output_type": "execute_result"
    }
   ],
   "source": [
    "st.write('''\n",
    "# visualizing stock data\n",
    "''')\n",
    "\n",
    "img = Image.open('/home/erfan/Desktop/Stock WebApp/trading.jpg')\n",
    "st.image(img,width=400, caption=\"visualizing stock data\")\n",
    "\n",
    "st.sidebar.header('Input Data')"
   ]
  },
  {
   "cell_type": "code",
   "execution_count": 13,
   "id": "70262a57",
   "metadata": {},
   "outputs": [],
   "source": [
    "def get_input():\n",
    "    numb=st.sidebar.text_input('N Last Days',50)\n",
    "    stock_symbol=st.sidebar.text_input('insert stock symbol','FOOLAD')\n",
    "    return stock_symbol , numb"
   ]
  },
  {
   "cell_type": "code",
   "execution_count": 14,
   "id": "923e0fcf",
   "metadata": {},
   "outputs": [],
   "source": [
    "def get_company_name(symbol):\n",
    "    if symbol=='FOOLAD':\n",
    "        return 'FOOLAD'\n",
    "    elif symbol== 'KHODRO':\n",
    "        return 'KHODRO'\n",
    "    elif symbol== 'AMZN':\n",
    "        return 'AMAZON'\n",
    "    elif symbol=='TSLA':\n",
    "        return 'TESLA'\n",
    "    else :\n",
    "        'NONE'"
   ]
  },
  {
   "cell_type": "code",
   "execution_count": 15,
   "id": "153b3f19",
   "metadata": {},
   "outputs": [],
   "source": [
    "def get_data(symbol,n):\n",
    "    if symbol.upper()=='FOOLAD':\n",
    "        df=pd.read_csv('/home/erfan/Desktop/Stock WebApp/foolad.csv')\n",
    "    elif symbol.upper()=='KHODRO':\n",
    "        df=pd.read_csv('/home/erfan/Desktop/Stock WebApp/khodro.csv')\n",
    "    elif symbol.upper()=='AMZN':\n",
    "        df=pd.read_csv('/home/erfan/Desktop/Stock WebApp/amzn.csv')\n",
    "    elif symbol.upper()=='TSLA':\n",
    "        df=pd.read_csv('/home/erfan/Desktop/Stock WebApp/tsla.csv')\n",
    "    else:\n",
    "        df=pd.DataFrame(columns=['Date','First','High','Low','Close','Value','Volume','Openint','Per','Open','last'])\n",
    "        \n",
    "    df=df.set_index(pd.DatetimeIndex(df['Date'].values))\n",
    "    n= int(n)\n",
    "    df=df.head(n)\n",
    "    return df"
   ]
  },
  {
   "cell_type": "code",
   "execution_count": 17,
   "id": "4a506723",
   "metadata": {},
   "outputs": [],
   "source": [
    "symbol , n = get_input()\n",
    "df=get_data(symbol,n)\n",
    "company=get_company_name(symbol.upper())\n",
    "\n",
    "st.header(company + ' Close Price\\n')\n",
    "st.line_chart(df['Close'])\n",
    "\n",
    "st.header(company + ' Volume\\n')\n",
    "st.line_chart(df['Volume'])\n",
    "\n",
    "st.header('Stock Datas')\n",
    "\n",
    "st.write(df.describe())"
   ]
  },
  {
   "cell_type": "code",
   "execution_count": null,
   "id": "413eaf65",
   "metadata": {},
   "outputs": [],
   "source": []
  }
 ],
 "metadata": {
  "kernelspec": {
   "display_name": "Python 3 (ipykernel)",
   "language": "python",
   "name": "python3"
  },
  "language_info": {
   "codemirror_mode": {
    "name": "ipython",
    "version": 3
   },
   "file_extension": ".py",
   "mimetype": "text/x-python",
   "name": "python",
   "nbconvert_exporter": "python",
   "pygments_lexer": "ipython3",
   "version": "3.10.6"
  }
 },
 "nbformat": 4,
 "nbformat_minor": 5
}
